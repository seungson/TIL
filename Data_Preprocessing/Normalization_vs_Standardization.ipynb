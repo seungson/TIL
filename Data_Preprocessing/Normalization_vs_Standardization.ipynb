{
 "cells": [
  {
   "cell_type": "markdown",
   "id": "7ab394ab",
   "metadata": {},
   "source": [
    "# Feature Scaling\n",
    "---\n",
    "### Normalization(정규화)\n",
    "> 값의 범위를 '최소 0 ~ 최대 1' 로 변환\n",
    "$$\\frac{x_i-min(x)}{max(x)-min(x)}$$\n",
    "\n",
    "\n",
    "### Standardization(표준화)\n",
    "> '평균 0, 분산 1' 인 가우시안 정규분포 값으로 변환\n",
    "$$\\frac{x_i-mean(x)}{std(x)}$$\n",
    "\n",
    "---\n",
    "<img src=\"https://cdn.analyticsvidhya.com/wp-content/uploads/2020/03/NormVsStand_box_plots-1.png\" height=\"30%\" width=\"100%\">\n",
    "\n",
    "[이미지 출처(원문) 바로가기](https://www.analyticsvidhya.com/blog/2020/04/feature-scaling-machine-learning-normalization-standardization/)\n",
    "\n",
    "\n"
   ]
  }
 ],
 "metadata": {
  "kernelspec": {
   "display_name": "Python 3",
   "language": "python",
   "name": "python3"
  },
  "language_info": {
   "codemirror_mode": {
    "name": "ipython",
    "version": 3
   },
   "file_extension": ".py",
   "mimetype": "text/x-python",
   "name": "python",
   "nbconvert_exporter": "python",
   "pygments_lexer": "ipython3",
   "version": "3.7.7"
  }
 },
 "nbformat": 4,
 "nbformat_minor": 5
}
