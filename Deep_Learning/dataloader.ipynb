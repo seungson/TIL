{
 "cells": [
  {
   "cell_type": "code",
   "execution_count": 14,
   "metadata": {},
   "outputs": [],
   "source": [
    "import torch\n",
    "import torch.nn as nn\n",
    "import torch.nn.functional as F\n",
    "\n",
    "from torch.utils.data import TensorDataset\n",
    "from torch.utils.data import DataLoader"
   ]
  },
  {
   "cell_type": "code",
   "execution_count": 46,
   "metadata": {},
   "outputs": [],
   "source": [
    "X_train = torch.FloatTensor(\n",
    "  [[73, 80, 75],\n",
    "   [93, 88, 93],\n",
    "   [89, 81, 90],\n",
    "   [98, 39, 49],\n",
    "   [73, 66, 38]]\n",
    ")\n",
    "\n",
    "y_train = torch.FloatTensor(\n",
    "  [[152], [185], [180], [187], [142]]\n",
    ")"
   ]
  },
  {
   "cell_type": "code",
   "execution_count": 47,
   "metadata": {},
   "outputs": [],
   "source": [
    "dataset = TensorDataset(X_train, y_train)\n",
    "dataloader = DataLoader(dataset, batch_size=2, shuffle=True)\n",
    "\n",
    "model = nn.Linear(3, 1)\n",
    "optimizer = torch.optim.SGD(model.parameters(), lr=1e-5)"
   ]
  },
  {
   "cell_type": "code",
   "execution_count": 18,
   "metadata": {},
   "outputs": [
    {
     "name": "stdout",
     "output_type": "stream",
     "text": [
      "0\n",
      "[tensor([[89., 81., 90.],\n",
      "        [98., 39., 49.]]), tensor([[180.],\n",
      "        [187.]])]\n",
      "Epoch    0/20 Batch 1/3 Cost: 732.835632\n",
      "1\n",
      "[tensor([[73., 66., 38.],\n",
      "        [93., 88., 93.]]), tensor([[142.],\n",
      "        [185.]])]\n",
      "Epoch    0/20 Batch 2/3 Cost: 107.802940\n",
      "2\n",
      "[tensor([[73., 80., 75.]]), tensor([[152.]])]\n",
      "Epoch    0/20 Batch 3/3 Cost: 65.723610\n",
      "0\n",
      "[tensor([[93., 88., 93.],\n",
      "        [73., 66., 38.]]), tensor([[185.],\n",
      "        [142.]])]\n",
      "Epoch    1/20 Batch 1/3 Cost: 88.145309\n",
      "1\n",
      "[tensor([[98., 39., 49.],\n",
      "        [73., 80., 75.]]), tensor([[187.],\n",
      "        [152.]])]\n",
      "Epoch    1/20 Batch 2/3 Cost: 691.315247\n",
      "2\n",
      "[tensor([[89., 81., 90.]]), tensor([[180.]])]\n",
      "Epoch    1/20 Batch 3/3 Cost: 60.994392\n",
      "0\n",
      "[tensor([[89., 81., 90.],\n",
      "        [73., 66., 38.]]), tensor([[180.],\n",
      "        [142.]])]\n",
      "Epoch    2/20 Batch 1/3 Cost: 58.263645\n",
      "1\n",
      "[tensor([[73., 80., 75.],\n",
      "        [98., 39., 49.]]), tensor([[152.],\n",
      "        [187.]])]\n",
      "Epoch    2/20 Batch 2/3 Cost: 624.562744\n",
      "2\n",
      "[tensor([[93., 88., 93.]]), tensor([[185.]])]\n",
      "Epoch    2/20 Batch 3/3 Cost: 188.814163\n",
      "0\n",
      "[tensor([[73., 66., 38.],\n",
      "        [98., 39., 49.]]), tensor([[142.],\n",
      "        [187.]])]\n",
      "Epoch    3/20 Batch 1/3 Cost: 693.376892\n",
      "1\n",
      "[tensor([[73., 80., 75.],\n",
      "        [89., 81., 90.]]), tensor([[152.],\n",
      "        [180.]])]\n",
      "Epoch    3/20 Batch 2/3 Cost: 113.729088\n",
      "2\n",
      "[tensor([[93., 88., 93.]]), tensor([[185.]])]\n",
      "Epoch    3/20 Batch 3/3 Cost: 99.387230\n",
      "0\n",
      "[tensor([[98., 39., 49.],\n",
      "        [89., 81., 90.]]), tensor([[187.],\n",
      "        [180.]])]\n",
      "Epoch    4/20 Batch 1/3 Cost: 654.775818\n",
      "1\n",
      "[tensor([[93., 88., 93.],\n",
      "        [73., 80., 75.]]), tensor([[185.],\n",
      "        [152.]])]\n",
      "Epoch    4/20 Batch 2/3 Cost: 92.762665\n",
      "2\n",
      "[tensor([[73., 66., 38.]]), tensor([[142.]])]\n",
      "Epoch    4/20 Batch 3/3 Cost: 110.728928\n",
      "0\n",
      "[tensor([[98., 39., 49.],\n",
      "        [73., 66., 38.]]), tensor([[187.],\n",
      "        [142.]])]\n",
      "Epoch    5/20 Batch 1/3 Cost: 544.784058\n",
      "1\n",
      "[tensor([[89., 81., 90.],\n",
      "        [73., 80., 75.]]), tensor([[180.],\n",
      "        [152.]])]\n",
      "Epoch    5/20 Batch 2/3 Cost: 153.507080\n",
      "2\n",
      "[tensor([[93., 88., 93.]]), tensor([[185.]])]\n",
      "Epoch    5/20 Batch 3/3 Cost: 125.930550\n",
      "0\n",
      "[tensor([[73., 66., 38.],\n",
      "        [89., 81., 90.]]), tensor([[142.],\n",
      "        [180.]])]\n",
      "Epoch    6/20 Batch 1/3 Cost: 58.617001\n",
      "1\n",
      "[tensor([[98., 39., 49.],\n",
      "        [73., 80., 75.]]), tensor([[187.],\n",
      "        [152.]])]\n",
      "Epoch    6/20 Batch 2/3 Cost: 564.352966\n",
      "2\n",
      "[tensor([[93., 88., 93.]]), tensor([[185.]])]\n",
      "Epoch    6/20 Batch 3/3 Cost: 137.088516\n",
      "0\n",
      "[tensor([[98., 39., 49.],\n",
      "        [73., 80., 75.]]), tensor([[187.],\n",
      "        [152.]])]\n",
      "Epoch    7/20 Batch 1/3 Cost: 565.325073\n",
      "1\n",
      "[tensor([[89., 81., 90.],\n",
      "        [93., 88., 93.]]), tensor([[180.],\n",
      "        [185.]])]\n",
      "Epoch    7/20 Batch 2/3 Cost: 78.775513\n",
      "2\n",
      "[tensor([[73., 66., 38.]]), tensor([[142.]])]\n",
      "Epoch    7/20 Batch 3/3 Cost: 93.009628\n",
      "0\n",
      "[tensor([[73., 80., 75.],\n",
      "        [98., 39., 49.]]), tensor([[152.],\n",
      "        [187.]])]\n",
      "Epoch    8/20 Batch 1/3 Cost: 474.902252\n",
      "1\n",
      "[tensor([[93., 88., 93.],\n",
      "        [89., 81., 90.]]), tensor([[185.],\n",
      "        [180.]])]\n",
      "Epoch    8/20 Batch 2/3 Cost: 129.605103\n",
      "2\n",
      "[tensor([[73., 66., 38.]]), tensor([[142.]])]\n",
      "Epoch    8/20 Batch 3/3 Cost: 71.320213\n",
      "0\n",
      "[tensor([[89., 81., 90.],\n",
      "        [93., 88., 93.]]), tensor([[180.],\n",
      "        [185.]])]\n",
      "Epoch    9/20 Batch 1/3 Cost: 76.606865\n",
      "1\n",
      "[tensor([[73., 80., 75.],\n",
      "        [98., 39., 49.]]), tensor([[152.],\n",
      "        [187.]])]\n",
      "Epoch    9/20 Batch 2/3 Cost: 506.771973\n",
      "2\n",
      "[tensor([[73., 66., 38.]]), tensor([[142.]])]\n",
      "Epoch    9/20 Batch 3/3 Cost: 37.571911\n",
      "0\n",
      "[tensor([[73., 80., 75.],\n",
      "        [93., 88., 93.]]), tensor([[152.],\n",
      "        [185.]])]\n",
      "Epoch   10/20 Batch 1/3 Cost: 129.338211\n",
      "1\n",
      "[tensor([[98., 39., 49.],\n",
      "        [73., 66., 38.]]), tensor([[187.],\n",
      "        [142.]])]\n",
      "Epoch   10/20 Batch 2/3 Cost: 482.909943\n",
      "2\n",
      "[tensor([[89., 81., 90.]]), tensor([[180.]])]\n",
      "Epoch   10/20 Batch 3/3 Cost: 94.100601\n",
      "0\n",
      "[tensor([[93., 88., 93.],\n",
      "        [73., 80., 75.]]), tensor([[185.],\n",
      "        [152.]])]\n",
      "Epoch   11/20 Batch 1/3 Cost: 67.776367\n",
      "1\n",
      "[tensor([[89., 81., 90.],\n",
      "        [73., 66., 38.]]), tensor([[180.],\n",
      "        [142.]])]\n",
      "Epoch   11/20 Batch 2/3 Cost: 43.361473\n",
      "2\n",
      "[tensor([[98., 39., 49.]]), tensor([[187.]])]\n",
      "Epoch   11/20 Batch 3/3 Cost: 896.198181\n",
      "0\n",
      "[tensor([[73., 66., 38.],\n",
      "        [98., 39., 49.]]), tensor([[142.],\n",
      "        [187.]])]\n",
      "Epoch   12/20 Batch 1/3 Cost: 239.498688\n",
      "1\n",
      "[tensor([[93., 88., 93.],\n",
      "        [89., 81., 90.]]), tensor([[185.],\n",
      "        [180.]])]\n",
      "Epoch   12/20 Batch 2/3 Cost: 356.200165\n",
      "2\n",
      "[tensor([[73., 80., 75.]]), tensor([[152.]])]\n",
      "Epoch   12/20 Batch 3/3 Cost: 67.968117\n",
      "0\n",
      "[tensor([[93., 88., 93.],\n",
      "        [89., 81., 90.]]), tensor([[185.],\n",
      "        [180.]])]\n",
      "Epoch   13/20 Batch 1/3 Cost: 45.921124\n",
      "1\n",
      "[tensor([[73., 80., 75.],\n",
      "        [73., 66., 38.]]), tensor([[152.],\n",
      "        [142.]])]\n",
      "Epoch   13/20 Batch 2/3 Cost: 43.553120\n",
      "2\n",
      "[tensor([[98., 39., 49.]]), tensor([[187.]])]\n",
      "Epoch   13/20 Batch 3/3 Cost: 829.545654\n",
      "0\n",
      "[tensor([[73., 80., 75.],\n",
      "        [93., 88., 93.]]), tensor([[152.],\n",
      "        [185.]])]\n",
      "Epoch   14/20 Batch 1/3 Cost: 195.906586\n",
      "1\n",
      "[tensor([[73., 66., 38.],\n",
      "        [89., 81., 90.]]), tensor([[142.],\n",
      "        [180.]])]\n",
      "Epoch   14/20 Batch 2/3 Cost: 31.282558\n",
      "2\n",
      "[tensor([[98., 39., 49.]]), tensor([[187.]])]\n",
      "Epoch   14/20 Batch 3/3 Cost: 654.516846\n",
      "0\n",
      "[tensor([[73., 80., 75.],\n",
      "        [73., 66., 38.]]), tensor([[152.],\n",
      "        [142.]])]\n",
      "Epoch   15/20 Batch 1/3 Cost: 84.595650\n",
      "1\n",
      "[tensor([[89., 81., 90.],\n",
      "        [98., 39., 49.]]), tensor([[180.],\n",
      "        [187.]])]\n",
      "Epoch   15/20 Batch 2/3 Cost: 268.404236\n",
      "2\n",
      "[tensor([[93., 88., 93.]]), tensor([[185.]])]\n",
      "Epoch   15/20 Batch 3/3 Cost: 265.423035\n",
      "0\n",
      "[tensor([[98., 39., 49.],\n",
      "        [73., 66., 38.]]), tensor([[187.],\n",
      "        [142.]])]\n",
      "Epoch   16/20 Batch 1/3 Cost: 333.510010\n",
      "1\n",
      "[tensor([[89., 81., 90.],\n",
      "        [93., 88., 93.]]), tensor([[180.],\n",
      "        [185.]])]\n",
      "Epoch   16/20 Batch 2/3 Cost: 130.970367\n",
      "2\n",
      "[tensor([[73., 80., 75.]]), tensor([[152.]])]\n",
      "Epoch   16/20 Batch 3/3 Cost: 19.867985\n",
      "0\n",
      "[tensor([[73., 66., 38.],\n",
      "        [73., 80., 75.]]), tensor([[142.],\n",
      "        [152.]])]\n",
      "Epoch   17/20 Batch 1/3 Cost: 31.965565\n",
      "1\n",
      "[tensor([[89., 81., 90.],\n",
      "        [98., 39., 49.]]), tensor([[180.],\n",
      "        [187.]])]\n",
      "Epoch   17/20 Batch 2/3 Cost: 328.005249\n",
      "2\n",
      "[tensor([[93., 88., 93.]]), tensor([[185.]])]\n",
      "Epoch   17/20 Batch 3/3 Cost: 108.246216\n",
      "0\n",
      "[tensor([[73., 66., 38.],\n",
      "        [89., 81., 90.]]), tensor([[142.],\n",
      "        [180.]])]\n",
      "Epoch   18/20 Batch 1/3 Cost: 31.238251\n",
      "1\n",
      "[tensor([[93., 88., 93.],\n",
      "        [73., 80., 75.]]), tensor([[185.],\n",
      "        [152.]])]\n",
      "Epoch   18/20 Batch 2/3 Cost: 23.294394\n",
      "2\n",
      "[tensor([[98., 39., 49.]]), tensor([[187.]])]\n",
      "Epoch   18/20 Batch 3/3 Cost: 716.754883\n",
      "0\n",
      "[tensor([[93., 88., 93.],\n",
      "        [98., 39., 49.]]), tensor([[185.],\n",
      "        [187.]])]\n",
      "Epoch   19/20 Batch 1/3 Cost: 277.403961\n",
      "1\n",
      "[tensor([[73., 80., 75.],\n",
      "        [73., 66., 38.]]), tensor([[152.],\n",
      "        [142.]])]\n",
      "Epoch   19/20 Batch 2/3 Cost: 39.286350\n",
      "2\n",
      "[tensor([[89., 81., 90.]]), tensor([[180.]])]\n",
      "Epoch   19/20 Batch 3/3 Cost: 56.241074\n",
      "0\n",
      "[tensor([[93., 88., 93.],\n",
      "        [73., 66., 38.]]), tensor([[185.],\n",
      "        [142.]])]\n",
      "Epoch   20/20 Batch 1/3 Cost: 48.120033\n",
      "1\n",
      "[tensor([[73., 80., 75.],\n",
      "        [98., 39., 49.]]), tensor([[152.],\n",
      "        [187.]])]\n",
      "Epoch   20/20 Batch 2/3 Cost: 277.676422\n",
      "2\n",
      "[tensor([[89., 81., 90.]]), tensor([[180.]])]\n",
      "Epoch   20/20 Batch 3/3 Cost: 37.188484\n"
     ]
    }
   ],
   "source": [
    "nb_epochs = 20\n",
    "\n",
    "for epoch in range(nb_epochs + 1):\n",
    "  for batch_idx, samples in enumerate(dataloader):\n",
    "    print(batch_idx)\n",
    "    print(samples)\n",
    "    X_train, y_train = samples\n",
    "    prediction = model(X_train)\n",
    "    cost = F.mse_loss(prediction, y_train)\n",
    "    \n",
    "    optimizer.zero_grad()\n",
    "    cost.backward()\n",
    "    optimizer.step()\n",
    "\n",
    "    print('Epoch {:4d}/{} Batch {}/{} Cost: {:.6f}'.format(\n",
    "      epoch, nb_epochs, batch_idx+1, len(dataloader), cost.item()\n",
    "    ))"
   ]
  },
  {
   "cell_type": "code",
   "execution_count": 20,
   "metadata": {},
   "outputs": [
    {
     "data": {
      "text/plain": [
       "tensor([[186.0982]], grad_fn=<AddmmBackward>)"
      ]
     },
     "execution_count": 20,
     "metadata": {},
     "output_type": "execute_result"
    }
   ],
   "source": [
    "prediction"
   ]
  },
  {
   "cell_type": "code",
   "execution_count": 23,
   "metadata": {},
   "outputs": [
    {
     "data": {
      "text/plain": [
       "tensor([[73., 80., 75.],\n",
       "        [93., 88., 93.],\n",
       "        [89., 81., 90.],\n",
       "        [98., 39., 49.],\n",
       "        [73., 66., 38.]])"
      ]
     },
     "execution_count": 23,
     "metadata": {},
     "output_type": "execute_result"
    }
   ],
   "source": [
    "X_train"
   ]
  },
  {
   "cell_type": "code",
   "execution_count": 25,
   "metadata": {},
   "outputs": [
    {
     "data": {
      "text/plain": [
       "torch.return_types.max(\n",
       "values=tensor([80., 93., 90., 98., 73.]),\n",
       "indices=tensor([1, 0, 2, 0, 0]))"
      ]
     },
     "execution_count": 25,
     "metadata": {},
     "output_type": "execute_result"
    }
   ],
   "source": [
    "torch.max(X_train, 1)"
   ]
  },
  {
   "cell_type": "code",
   "execution_count": 26,
   "metadata": {},
   "outputs": [
    {
     "data": {
      "text/plain": [
       "tensor([[73., 80., 75.],\n",
       "        [93., 88., 93.],\n",
       "        [89., 81., 90.],\n",
       "        [98., 39., 49.],\n",
       "        [73., 66., 38.]])"
      ]
     },
     "execution_count": 26,
     "metadata": {},
     "output_type": "execute_result"
    }
   ],
   "source": [
    "X_train"
   ]
  },
  {
   "cell_type": "code",
   "execution_count": 29,
   "metadata": {},
   "outputs": [
    {
     "data": {
      "text/plain": [
       "tensor([1, 0, 2, 0, 0])"
      ]
     },
     "execution_count": 29,
     "metadata": {},
     "output_type": "execute_result"
    }
   ],
   "source": [
    "_, preds = torch.max(X_train, 1)\n",
    "preds"
   ]
  },
  {
   "cell_type": "markdown",
   "metadata": {},
   "source": []
  },
  {
   "cell_type": "code",
   "execution_count": 32,
   "metadata": {},
   "outputs": [
    {
     "data": {
      "text/plain": [
       "tensor([[152.],\n",
       "        [185.],\n",
       "        [180.],\n",
       "        [187.],\n",
       "        [142.]])"
      ]
     },
     "execution_count": 32,
     "metadata": {},
     "output_type": "execute_result"
    }
   ],
   "source": [
    "y_train.data"
   ]
  },
  {
   "cell_type": "code",
   "execution_count": 37,
   "metadata": {},
   "outputs": [
    {
     "data": {
      "text/plain": [
       "tensor([[ True],\n",
       "        [ True],\n",
       "        [ True],\n",
       "        [False],\n",
       "        [False]])"
      ]
     },
     "execution_count": 37,
     "metadata": {},
     "output_type": "execute_result"
    }
   ],
   "source": [
    "tmp = torch.FloatTensor([[152], [185], [180], [188], [190]])\n",
    "tmp == y_train"
   ]
  },
  {
   "cell_type": "code",
   "execution_count": 38,
   "metadata": {},
   "outputs": [
    {
     "data": {
      "text/plain": [
       "tensor(3)"
      ]
     },
     "execution_count": 38,
     "metadata": {},
     "output_type": "execute_result"
    }
   ],
   "source": [
    "torch.sum(tmp == y_train)"
   ]
  },
  {
   "cell_type": "code",
   "execution_count": 36,
   "metadata": {},
   "outputs": [
    {
     "data": {
      "text/plain": [
       "tensor([[152., 185., 180., 188., 190.]])"
      ]
     },
     "execution_count": 36,
     "metadata": {},
     "output_type": "execute_result"
    }
   ],
   "source": [
    "tmp"
   ]
  },
  {
   "cell_type": "code",
   "execution_count": 40,
   "metadata": {},
   "outputs": [
    {
     "data": {
      "text/plain": [
       "torch.return_types.max(\n",
       "values=tensor([80., 93., 90., 98., 73.]),\n",
       "indices=tensor([1, 0, 2, 0, 0]))"
      ]
     },
     "execution_count": 40,
     "metadata": {},
     "output_type": "execute_result"
    }
   ],
   "source": [
    "torch.max(X_train, 1)"
   ]
  },
  {
   "cell_type": "code",
   "execution_count": 42,
   "metadata": {},
   "outputs": [],
   "source": [
    "_, preds = torch.max(X_train, 1)"
   ]
  },
  {
   "cell_type": "code",
   "execution_count": 43,
   "metadata": {},
   "outputs": [
    {
     "data": {
      "text/plain": [
       "tensor([1, 0, 2, 0, 0])"
      ]
     },
     "execution_count": 43,
     "metadata": {},
     "output_type": "execute_result"
    }
   ],
   "source": [
    "preds"
   ]
  },
  {
   "cell_type": "code",
   "execution_count": 51,
   "metadata": {},
   "outputs": [
    {
     "name": "stdout",
     "output_type": "stream",
     "text": [
      "input =  0\n",
      "label =  [tensor([[89., 81., 90.],\n",
      "        [93., 88., 93.]]), tensor([[180.],\n",
      "        [185.]])]\n",
      "input =  1\n",
      "label =  [tensor([[73., 80., 75.],\n",
      "        [73., 66., 38.]]), tensor([[152.],\n",
      "        [142.]])]\n",
      "input =  2\n",
      "label =  [tensor([[98., 39., 49.]]), tensor([[187.]])]\n"
     ]
    }
   ],
   "source": []
  },
  {
   "cell_type": "code",
   "execution_count": null,
   "metadata": {},
   "outputs": [],
   "source": []
  }
 ],
 "metadata": {
  "interpreter": {
   "hash": "946e70462398da2b7d5146f365841ff0dae0fe6e2f7c4e5ed0a8dd78c4677798"
  },
  "kernelspec": {
   "display_name": "Python 3.7.7 64-bit ('dataScience': conda)",
   "language": "python",
   "name": "python3"
  },
  "language_info": {
   "codemirror_mode": {
    "name": "ipython",
    "version": 3
   },
   "file_extension": ".py",
   "mimetype": "text/x-python",
   "name": "python",
   "nbconvert_exporter": "python",
   "pygments_lexer": "ipython3",
   "version": "3.7.7"
  },
  "orig_nbformat": 4
 },
 "nbformat": 4,
 "nbformat_minor": 2
}
